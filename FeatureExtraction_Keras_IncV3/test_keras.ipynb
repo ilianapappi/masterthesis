{
 "cells": [
  {
   "cell_type": "code",
   "execution_count": 1,
   "metadata": {},
   "outputs": [
    {
     "name": "stderr",
     "output_type": "stream",
     "text": [
      "Using TensorFlow backend.\n"
     ]
    }
   ],
   "source": [
    "import keras\n",
    "from keras.preprocessing import image\n",
    "from keras.applications.inception_v3 import preprocess_input, decode_predictions, InceptionV3\n",
    "import numpy as np\n",
    "import tensorflow as tf\n",
    "import os"
   ]
  },
  {
   "cell_type": "code",
   "execution_count": null,
   "metadata": {
    "collapsed": true
   },
   "outputs": [],
   "source": [
    "model = keras.applications.inception_v3.InceptionV3(include_top=True, weights='imagenet', input_tensor=None, input_shape=None)\n",
    "graph = tf.get_default_graph()\n",
    "\n",
    "\n",
    "def predict(image_file):\n",
    "    img = image.load_img(image_file, target_size=(299, 299))\n",
    "    x = image.img_to_array(img)\n",
    "    x = np.expand_dims(x,axis=0)\n",
    "    x = preprocess_input(x)\n",
    "\n",
    "    global graph\n",
    "    with graph.as_default():\n",
    "        preds = model.predict(x)\n",
    "        #print preds.shape\n",
    "        #print preds\n",
    "        #print(type(preds))\n",
    "\n",
    "    top3 = decode_predictions(preds,top=3)[0]\n",
    "\n",
    "    predictions = [{'label': label, 'description': description, 'probability': probability * 100.0}\n",
    "                    for label,description, probability in top3]\n",
    "    \n",
    "    return preds"
   ]
  },
  {
   "cell_type": "code",
   "execution_count": null,
   "metadata": {
    "collapsed": true
   },
   "outputs": [],
   "source": [
    "hl_feat = np.zeros((1055,1000))\n",
    "\n",
    "list_images_from_dir = sorted(os.listdir('/home/iliana/Documents/cleaner/basketball_cleaner'))\n",
    "\n",
    "list1_ordered= sorted([int(x.split('.')[0]) for x in list_images_from_dir], key=int)\n",
    "\n",
    "for f_in,f in enumerate(list1_ordered):\n",
    "\n",
    "    hl_feat[f_in,:] = predict('/home/iliana/Documents/cleaner/basketball_cleaner/'+str(f)+'.jpg')\n",
    "\n",
    "\n",
    "np.savetxt(\"basket_hl.csv\", hl_feat, delimiter=\",\")"
   ]
  },
  {
   "cell_type": "code",
   "execution_count": null,
   "metadata": {
    "collapsed": true
   },
   "outputs": [],
   "source": [
    "print hl_feat.shape"
   ]
  },
  {
   "cell_type": "code",
   "execution_count": 2,
   "metadata": {
    "collapsed": true
   },
   "outputs": [],
   "source": [
    "from keras.models import Model"
   ]
  },
  {
   "cell_type": "code",
   "execution_count": 3,
   "metadata": {
    "collapsed": true
   },
   "outputs": [],
   "source": [
    "model = keras.applications.inception_v3.InceptionV3(include_top=False, weights='imagenet', input_tensor=None, input_shape=None, pooling = 'max')\n",
    "graph = tf.get_default_graph()\n",
    "\n",
    "\n",
    "#layer_name = 'mixed10'\n",
    "#intermediate_layer_model = Model(inputs=model.input, outputs=model.get_layer(layer_name).input)\n",
    " \n",
    "\n",
    "def predict(image_file):\n",
    "    img = image.load_img(image_file, target_size=(299, 299))\n",
    "    x = image.img_to_array(img)\n",
    "    x = np.expand_dims(x,axis=0)\n",
    "    x = preprocess_input(x)\n",
    "\n",
    "    global graph\n",
    "    with graph.as_default():\n",
    "        preds = model.predict(x)\n",
    "\n",
    "\n",
    "    \n",
    "    return preds\n"
   ]
  },
  {
   "cell_type": "code",
   "execution_count": 4,
   "metadata": {
    "collapsed": true
   },
   "outputs": [],
   "source": [
    "ll_feat = np.zeros((1264,2048))\n",
    "\n",
    "list_images_from_dir = sorted(os.listdir('/home/iliana/Documents/cleaner/fields_cleaner'))\n",
    "\n",
    "list1_ordered= sorted([int(x.split('.')[0]) for x in list_images_from_dir], key=int)\n",
    "\n",
    "for f_in,f in enumerate(list1_ordered):\n",
    "\n",
    "    ll_feat[f_in,:] = predict('/home/iliana/Documents/cleaner/fields_cleaner/'+str(f)+'.jpg')\n",
    "\n",
    "\n",
    "np.savetxt(\"fields_ll.csv\", ll_feat, delimiter=\",\")"
   ]
  },
  {
   "cell_type": "code",
   "execution_count": 5,
   "metadata": {},
   "outputs": [
    {
     "name": "stdout",
     "output_type": "stream",
     "text": [
      "(1264, 2048)\n"
     ]
    }
   ],
   "source": [
    "print ll_feat.shape"
   ]
  },
  {
   "cell_type": "code",
   "execution_count": null,
   "metadata": {
    "collapsed": true
   },
   "outputs": [],
   "source": [
    "'''\n",
    "\n",
    "\n",
    "\n",
    "layer_name = 'mixed10'\n",
    "intermediate_layer_model = Model(inputs=model.input, outputs=model.get_layer(layer_name).input)\n",
    " \n",
    "\n",
    "def predict(image_file):\n",
    "    img = image.load_img(image_file, target_size=(299, 299))\n",
    "    x = image.img_to_array(img)\n",
    "    x = np.expand_dims(x,axis=0)\n",
    "    x = preprocess_input(x)\n",
    "\n",
    "    global graph\n",
    "    with graph.as_default():\n",
    "        preds = model.predict(x)\n",
    "    print intermediate_layer_model(tf.convert_to_tensor(x))\n",
    "\n",
    "    top3 = decode_predictions(preds,top=3)[0]\n",
    "\n",
    "    predictions = [{'label': label, 'description': description, 'probability': probability * 100.0}\n",
    "                    for label,description, probability in top3]\n",
    "    \n",
    "    return predictions\n",
    "\n",
    "'''"
   ]
  }
 ],
 "metadata": {
  "kernelspec": {
   "display_name": "Python 2",
   "language": "python",
   "name": "python2"
  },
  "language_info": {
   "codemirror_mode": {
    "name": "ipython",
    "version": 2
   },
   "file_extension": ".py",
   "mimetype": "text/x-python",
   "name": "python",
   "nbconvert_exporter": "python",
   "pygments_lexer": "ipython2",
   "version": "2.7.13"
  }
 },
 "nbformat": 4,
 "nbformat_minor": 2
}
